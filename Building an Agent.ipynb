{
 "cells": [
  {
   "cell_type": "code",
   "execution_count": null,
   "id": "4faeb076-b0dc-42d5-9814-86b93e8b68d4",
   "metadata": {},
   "outputs": [],
   "source": [
    "# Import relevant functionality\n",
    "from langchain_anthropic import ChatAnthropic\n",
    "from langchain_community.tools.tavily_search import TavilySearchResults\n",
    "from langchain_core.messages import HumanMessage\n",
    "from langgraph.checkpoint.sqlite import SqliteSaver\n",
    "from langgraph.prebuilt import create_react_agent\n",
    "\n",
    "# Create the agent\n",
    "memory = SqliteSaver.from_conn_string(\":memory:\")\n",
    "model = ChatAnthropic(model_name=\"claude-3-sonnet-20240229\")\n",
    "search = TavilySearchResults(max_results=2)\n",
    "tools = [search]\n",
    "agent_executor = create_react_agent(model, tools, checkpointer=memory)\n",
    "\n",
    "# Use the agent\n",
    "config = {\"configurable\": {\"thread_id\": \"abc123\"}}\n",
    "for chunk in agent_executor.stream(\n",
    "    {\"messages\": [HumanMessage(content=\"hi im bob! and i live in sf\")]}, config\n",
    "):\n",
    "    print(chunk)\n",
    "    print(\"----\")\n",
    "\n",
    "for chunk in agent_executor.stream(\n",
    "    {\"messages\": [HumanMessage(content=\"whats the weather where I live?\")]}, config\n",
    "):\n",
    "    print(chunk)\n",
    "    print(\"----\")"
   ]
  },
  {
   "cell_type": "code",
   "execution_count": null,
   "id": "cebe9702-a7c9-44b2-897d-e0b7448c9ead",
   "metadata": {},
   "outputs": [],
   "source": [
    "%pip install -U langchain-community langgraph langchain-anthropic tavily-python"
   ]
  },
  {
   "cell_type": "code",
   "execution_count": 1,
   "id": "7311b676-32f4-44f8-823e-337d26045dab",
   "metadata": {},
   "outputs": [
    {
     "name": "stdin",
     "output_type": "stream",
     "text": [
      " ········\n"
     ]
    }
   ],
   "source": [
    "import getpass\n",
    "import os\n",
    "\n",
    "os.environ[\"TAVILY_API_KEY\"] = getpass.getpass()"
   ]
  },
  {
   "cell_type": "code",
   "execution_count": 2,
   "id": "ef95a85b-76f8-4533-9574-1800ef749b10",
   "metadata": {},
   "outputs": [
    {
     "name": "stdout",
     "output_type": "stream",
     "text": [
      "[{'url': 'https://www.weatherapi.com/', 'content': \"{'location': {'name': 'San Francisco', 'region': 'California', 'country': 'United States of America', 'lat': 37.78, 'lon': -122.42, 'tz_id': 'America/Los_Angeles', 'localtime_epoch': 1717674270, 'localtime': '2024-06-06 4:44'}, 'current': {'last_updated_epoch': 1717673400, 'last_updated': '2024-06-06 04:30', 'temp_c': 9.0, 'temp_f': 48.2, 'is_day': 0, 'condition': {'text': 'Mist', 'icon': '//cdn.weatherapi.com/weather/64x64/night/143.png', 'code': 1030}, 'wind_mph': 2.2, 'wind_kph': 3.6, 'wind_degree': 10, 'wind_dir': 'N', 'pressure_mb': 1011.0, 'pressure_in': 29.86, 'precip_mm': 0.0, 'precip_in': 0.0, 'humidity': 100, 'cloud': 0, 'feelslike_c': 7.3, 'feelslike_f': 45.1, 'windchill_c': 10.9, 'windchill_f': 51.6, 'heatindex_c': 12.0, 'heatindex_f': 53.6, 'dewpoint_c': 9.6, 'dewpoint_f': 49.3, 'vis_km': 6.4, 'vis_miles': 3.0, 'uv': 1.0, 'gust_mph': 11.3, 'gust_kph': 18.1}}\"}, {'url': 'https://world-weather.info/forecast/usa/san_francisco/june-2024/', 'content': 'Extended weather forecast in San Francisco. Hourly Week 10 days 14 days 30 days Year. Detailed ⚡ San Francisco Weather Forecast for June 2024 - day/night 🌡️ temperatures, precipitations - World-Weather.info.'}]\n"
     ]
    }
   ],
   "source": [
    "from langchain_community.tools.tavily_search import TavilySearchResults\n",
    "\n",
    "search = TavilySearchResults(max_results=2)\n",
    "search_results = search.invoke(\"what is the weather in SF\")\n",
    "print(search_results)\n",
    "# If we want, we can create other tools.\n",
    "# Once we have all the tools we want, we can put them in a list that we will reference later.\n",
    "tools = [search]"
   ]
  },
  {
   "cell_type": "code",
   "execution_count": 3,
   "id": "97dc877e-af05-4721-a786-0bbc920e60d6",
   "metadata": {},
   "outputs": [
    {
     "name": "stdin",
     "output_type": "stream",
     "text": [
      " ········\n"
     ]
    }
   ],
   "source": [
    "import getpass\n",
    "import os\n",
    "\n",
    "os.environ[\"COHERE_API_KEY\"] = getpass.getpass()\n",
    "\n",
    "from langchain_cohere import ChatCohere\n",
    "\n",
    "model = ChatCohere(model=\"command-r\")"
   ]
  },
  {
   "cell_type": "code",
   "execution_count": 4,
   "id": "9069010a-e7db-4361-8f26-9e775b13b24f",
   "metadata": {},
   "outputs": [
    {
     "data": {
      "text/plain": [
       "\"Hi! How's it going? I'm here to help you with whatever you need. Do you have any questions or topics you'd like to discuss?\""
      ]
     },
     "execution_count": 4,
     "metadata": {},
     "output_type": "execute_result"
    }
   ],
   "source": [
    "from langchain_core.messages import HumanMessage\n",
    "\n",
    "response = model.invoke([HumanMessage(content=\"hi!\")])\n",
    "response.content"
   ]
  },
  {
   "cell_type": "code",
   "execution_count": 5,
   "id": "0e4aaa25-3f03-414f-bd12-d1513fa4e772",
   "metadata": {},
   "outputs": [],
   "source": [
    "model_with_tools = model.bind_tools(tools)"
   ]
  },
  {
   "cell_type": "code",
   "execution_count": 9,
   "id": "5c656b36-564c-4eb9-8a3e-bda041dd0802",
   "metadata": {},
   "outputs": [
    {
     "name": "stdout",
     "output_type": "stream",
     "text": [
      "ContentString: Hi! How's it going? I hope you're having a fantastic day today! 😊\n",
      "ToolCalls: []\n"
     ]
    }
   ],
   "source": [
    "response = model_with_tools.invoke([HumanMessage(content=\"Hi!\")])\n",
    "\n",
    "print(f\"ContentString: {response.content}\")\n",
    "print(f\"ToolCalls: {response.tool_calls}\")"
   ]
  },
  {
   "cell_type": "code",
   "execution_count": 10,
   "id": "585d9d2a-137a-4445-bfc8-4f9c737ea273",
   "metadata": {},
   "outputs": [
    {
     "name": "stdout",
     "output_type": "stream",
     "text": [
      "ContentString: \n",
      "ToolCalls: [{'name': 'tavily_search_results_json', 'args': {'query': 'weather in SF'}, 'id': 'df0749cba2da47199db69b640b263b73'}]\n"
     ]
    }
   ],
   "source": [
    "response = model_with_tools.invoke([HumanMessage(content=\"What's the weather in SF?\")])\n",
    "\n",
    "print(f\"ContentString: {response.content}\")\n",
    "print(f\"ToolCalls: {response.tool_calls}\")"
   ]
  },
  {
   "cell_type": "code",
   "execution_count": 11,
   "id": "945117a5-7618-44ec-a2bd-742b8430e75d",
   "metadata": {},
   "outputs": [],
   "source": [
    "from langgraph.prebuilt import create_react_agent\n",
    "\n",
    "agent_executor = create_react_agent(model, tools)"
   ]
  },
  {
   "cell_type": "code",
   "execution_count": 12,
   "id": "be32985e-9bb7-4bbe-975a-e9b81b47240a",
   "metadata": {},
   "outputs": [
    {
     "data": {
      "text/plain": [
       "[HumanMessage(content='hi!', id='a7542f6e-1dbd-42dc-9b6b-f0e955d3236f'),\n",
       " AIMessage(content=\"Hi! How's it going? I hope you're having a fantastic day today! 😊\", additional_kwargs={'documents': None, 'citations': None, 'search_results': None, 'search_queries': None, 'is_search_required': None, 'generation_id': '393a42d0-aaaf-4306-957a-47349a846259', 'token_count': {'input_tokens': 68, 'output_tokens': 19}}, response_metadata={'documents': None, 'citations': None, 'search_results': None, 'search_queries': None, 'is_search_required': None, 'generation_id': '393a42d0-aaaf-4306-957a-47349a846259', 'token_count': {'input_tokens': 68, 'output_tokens': 19}}, id='run-3c665ad4-d66d-4c01-b732-b0c7b3a329ad-0')]"
      ]
     },
     "execution_count": 12,
     "metadata": {},
     "output_type": "execute_result"
    }
   ],
   "source": [
    "response = agent_executor.invoke({\"messages\": [HumanMessage(content=\"hi!\")]})\n",
    "\n",
    "response[\"messages\"]"
   ]
  },
  {
   "cell_type": "code",
   "execution_count": 13,
   "id": "1c8117f2-8e6f-4ed2-9771-77359b71802c",
   "metadata": {},
   "outputs": [
    {
     "data": {
      "text/plain": [
       "[HumanMessage(content='whats the weather in sf?', id='6eb3e26c-5d65-4e73-8ea1-474a977db7a9'),\n",
       " AIMessage(content='', additional_kwargs={'documents': None, 'citations': None, 'search_results': None, 'search_queries': None, 'is_search_required': None, 'generation_id': '8d1759d4-0595-4155-a6b5-710d2c1e14c9', 'tool_calls': [{'id': '42387d18cb5842d1922f0f67488354e5', 'function': {'name': 'tavily_search_results_json', 'arguments': '{\"query\": \"sf weather\"}'}, 'type': 'function'}], 'token_count': {'output_tokens': 15}}, response_metadata={'documents': None, 'citations': None, 'search_results': None, 'search_queries': None, 'is_search_required': None, 'generation_id': '8d1759d4-0595-4155-a6b5-710d2c1e14c9', 'tool_calls': [{'id': '42387d18cb5842d1922f0f67488354e5', 'function': {'name': 'tavily_search_results_json', 'arguments': '{\"query\": \"sf weather\"}'}, 'type': 'function'}], 'token_count': {'output_tokens': 15}}, id='run-1ede98d4-e863-4f97-bd21-7b2fcb3de6f3-0', tool_calls=[{'name': 'tavily_search_results_json', 'args': {'query': 'sf weather'}, 'id': '9e31ae870c724a18ac74da9d3cd131ac'}]),\n",
       " ToolMessage(content='[{\"url\": \"https://www.weatherapi.com/\", \"content\": \"{\\'location\\': {\\'name\\': \\'San Francisco\\', \\'region\\': \\'California\\', \\'country\\': \\'United States of America\\', \\'lat\\': 37.78, \\'lon\\': -122.42, \\'tz_id\\': \\'America/Los_Angeles\\', \\'localtime_epoch\\': 1717675395, \\'localtime\\': \\'2024-06-06 5:03\\'}, \\'current\\': {\\'last_updated_epoch\\': 1717675200, \\'last_updated\\': \\'2024-06-06 05:00\\', \\'temp_c\\': 9.0, \\'temp_f\\': 48.2, \\'is_day\\': 0, \\'condition\\': {\\'text\\': \\'Mist\\', \\'icon\\': \\'//cdn.weatherapi.com/weather/64x64/night/143.png\\', \\'code\\': 1030}, \\'wind_mph\\': 2.2, \\'wind_kph\\': 3.6, \\'wind_degree\\': 10, \\'wind_dir\\': \\'N\\', \\'pressure_mb\\': 1012.0, \\'pressure_in\\': 29.87, \\'precip_mm\\': 0.0, \\'precip_in\\': 0.0, \\'humidity\\': 100, \\'cloud\\': 0, \\'feelslike_c\\': 7.4, \\'feelslike_f\\': 45.2, \\'windchill_c\\': 10.8, \\'windchill_f\\': 51.4, \\'heatindex_c\\': 11.8, \\'heatindex_f\\': 53.2, \\'dewpoint_c\\': 9.7, \\'dewpoint_f\\': 49.4, \\'vis_km\\': 6.4, \\'vis_miles\\': 3.0, \\'uv\\': 1.0, \\'gust_mph\\': 11.0, \\'gust_kph\\': 17.7}}\"}, {\"url\": \"https://www.weathertab.com/en/c/e/06/united-states/california/san-francisco/\", \"content\": \"Explore comprehensive June 2024 weather forecasts for San Francisco, including daily high and low temperatures, precipitation risks, and monthly temperature trends. Featuring detailed day-by-day forecasts, dynamic graphs of daily rain probabilities, and temperature trends to help you plan ahead.\"}]', name='tavily_search_results_json', id='088c51e1-39ae-47a7-a4d1-1e3453c93951', tool_call_id='9e31ae870c724a18ac74da9d3cd131ac'),\n",
       " AIMessage(content=\"Right now in San Francisco, the weather is 9.0°C (48.2°F) and misty. There's 100% humidity and the wind is blowing north at approximately 3.6 km/h.\", additional_kwargs={'documents': [{'id': 'tavily_search_results_json:0:0', 'output': '[{\"url\": \"https://www.weatherapi.com/\", \"content\": \"{\\'location\\': {\\'name\\': \\'San Francisco\\', \\'region\\': \\'California\\', \\'country\\': \\'United States of America\\', \\'lat\\': 37.78, \\'lon\\': -122.42, \\'tz_id\\': \\'America/Los_Angeles\\', \\'localtime_epoch\\': 1717675395, \\'localtime\\': \\'2024-06-06 5:03\\'}, \\'current\\': {\\'last_updated_epoch\\': 1717675200, \\'last_updated\\': \\'2024-06-06 05:00\\', \\'temp_c\\': 9.0, \\'temp_f\\': 48.2, \\'is_day\\': 0, \\'condition\\': {\\'text\\': \\'Mist\\', \\'icon\\': \\'//cdn.weatherapi.com/weather/64x64/night/143.png\\', \\'code\\': 1030}, \\'wind_mph\\': 2.2, \\'wind_kph\\': 3.6, \\'wind_degree\\': 10, \\'wind_dir\\': \\'N\\', \\'pressure_mb\\': 1012.0, \\'pressure_in\\': 29.87, \\'precip_mm\\': 0.0, \\'precip_in\\': 0.0, \\'humidity\\': 100, \\'cloud\\': 0, \\'feelslike_c\\': 7.4, \\'feelslike_f\\': 45.2, \\'windchill_c\\': 10.8, \\'windchill_f\\': 51.4, \\'heatindex_c\\': 11.8, \\'heatindex_f\\': 53.2, \\'dewpoint_c\\': 9.7, \\'dewpoint_f\\': 49.4, \\'vis_km\\': 6.4, \\'vis_miles\\': 3.0, \\'uv\\': 1.0, \\'gust_mph\\': 11.0, \\'gust_kph\\': 17.7}}\"}, {\"url\": \"https://www.weathertab.com/en/c/e/06/united-states/california/san-francisco/\", \"content\": \"Explore comprehensive June 2024 weather forecasts for San Francisco, including daily high and low temperatures, precipitation risks, and monthly temperature trends. Featuring detailed day-by-day forecasts, dynamic graphs of daily rain probabilities, and temperature trends to help you plan ahead.\"}]', 'tool_name': 'tavily_search_results_json'}], 'citations': [ChatCitation(start=43, end=57, text='9.0°C (48.2°F)', document_ids=['tavily_search_results_json:0:0']), ChatCitation(start=62, end=68, text='misty.', document_ids=['tavily_search_results_json:0:0']), ChatCitation(start=77, end=90, text='100% humidity', document_ids=['tavily_search_results_json:0:0']), ChatCitation(start=99, end=147, text='wind is blowing north at approximately 3.6 km/h.', document_ids=['tavily_search_results_json:0:0'])], 'search_results': None, 'search_queries': None, 'is_search_required': None, 'generation_id': '03577d62-28bc-45f7-b297-346e83b2583f', 'token_count': {'input_tokens': 1915, 'output_tokens': 51}}, response_metadata={'documents': [{'id': 'tavily_search_results_json:0:0', 'output': '[{\"url\": \"https://www.weatherapi.com/\", \"content\": \"{\\'location\\': {\\'name\\': \\'San Francisco\\', \\'region\\': \\'California\\', \\'country\\': \\'United States of America\\', \\'lat\\': 37.78, \\'lon\\': -122.42, \\'tz_id\\': \\'America/Los_Angeles\\', \\'localtime_epoch\\': 1717675395, \\'localtime\\': \\'2024-06-06 5:03\\'}, \\'current\\': {\\'last_updated_epoch\\': 1717675200, \\'last_updated\\': \\'2024-06-06 05:00\\', \\'temp_c\\': 9.0, \\'temp_f\\': 48.2, \\'is_day\\': 0, \\'condition\\': {\\'text\\': \\'Mist\\', \\'icon\\': \\'//cdn.weatherapi.com/weather/64x64/night/143.png\\', \\'code\\': 1030}, \\'wind_mph\\': 2.2, \\'wind_kph\\': 3.6, \\'wind_degree\\': 10, \\'wind_dir\\': \\'N\\', \\'pressure_mb\\': 1012.0, \\'pressure_in\\': 29.87, \\'precip_mm\\': 0.0, \\'precip_in\\': 0.0, \\'humidity\\': 100, \\'cloud\\': 0, \\'feelslike_c\\': 7.4, \\'feelslike_f\\': 45.2, \\'windchill_c\\': 10.8, \\'windchill_f\\': 51.4, \\'heatindex_c\\': 11.8, \\'heatindex_f\\': 53.2, \\'dewpoint_c\\': 9.7, \\'dewpoint_f\\': 49.4, \\'vis_km\\': 6.4, \\'vis_miles\\': 3.0, \\'uv\\': 1.0, \\'gust_mph\\': 11.0, \\'gust_kph\\': 17.7}}\"}, {\"url\": \"https://www.weathertab.com/en/c/e/06/united-states/california/san-francisco/\", \"content\": \"Explore comprehensive June 2024 weather forecasts for San Francisco, including daily high and low temperatures, precipitation risks, and monthly temperature trends. Featuring detailed day-by-day forecasts, dynamic graphs of daily rain probabilities, and temperature trends to help you plan ahead.\"}]', 'tool_name': 'tavily_search_results_json'}], 'citations': [ChatCitation(start=43, end=57, text='9.0°C (48.2°F)', document_ids=['tavily_search_results_json:0:0']), ChatCitation(start=62, end=68, text='misty.', document_ids=['tavily_search_results_json:0:0']), ChatCitation(start=77, end=90, text='100% humidity', document_ids=['tavily_search_results_json:0:0']), ChatCitation(start=99, end=147, text='wind is blowing north at approximately 3.6 km/h.', document_ids=['tavily_search_results_json:0:0'])], 'search_results': None, 'search_queries': None, 'is_search_required': None, 'generation_id': '03577d62-28bc-45f7-b297-346e83b2583f', 'token_count': {'input_tokens': 1915, 'output_tokens': 51}}, id='run-ca5c2d35-5df9-4dc2-82cf-6c820d818435-0')]"
      ]
     },
     "execution_count": 13,
     "metadata": {},
     "output_type": "execute_result"
    }
   ],
   "source": [
    "response = agent_executor.invoke(\n",
    "    {\"messages\": [HumanMessage(content=\"whats the weather in sf?\")]}\n",
    ")\n",
    "response[\"messages\"]"
   ]
  },
  {
   "cell_type": "code",
   "execution_count": 14,
   "id": "555ddbfc-3a48-4ffd-b52b-c1d082030da0",
   "metadata": {},
   "outputs": [
    {
     "name": "stdout",
     "output_type": "stream",
     "text": [
      "{'agent': {'messages': [AIMessage(content='', additional_kwargs={'documents': None, 'citations': None, 'search_results': None, 'search_queries': None, 'is_search_required': None, 'generation_id': '6c3fded1-cab5-40c1-a2ac-370be10a52d1', 'tool_calls': [{'id': 'f16de3e665224e0493ba5915abea8b1e', 'function': {'name': 'tavily_search_results_json', 'arguments': '{\"query\": \"sf weather\"}'}, 'type': 'function'}], 'token_count': {'output_tokens': 15}}, response_metadata={'documents': None, 'citations': None, 'search_results': None, 'search_queries': None, 'is_search_required': None, 'generation_id': '6c3fded1-cab5-40c1-a2ac-370be10a52d1', 'tool_calls': [{'id': 'f16de3e665224e0493ba5915abea8b1e', 'function': {'name': 'tavily_search_results_json', 'arguments': '{\"query\": \"sf weather\"}'}, 'type': 'function'}], 'token_count': {'output_tokens': 15}}, id='run-7eaf6bfa-72d9-4052-af10-324a395e6943-0', tool_calls=[{'name': 'tavily_search_results_json', 'args': {'query': 'sf weather'}, 'id': '9d260f41e5a242c58097baaefc47c483'}])]}}\n",
      "----\n",
      "{'tools': {'messages': [ToolMessage(content='[{\"url\": \"https://www.weatherapi.com/\", \"content\": \"{\\'location\\': {\\'name\\': \\'San Francisco\\', \\'region\\': \\'California\\', \\'country\\': \\'United States of America\\', \\'lat\\': 37.78, \\'lon\\': -122.42, \\'tz_id\\': \\'America/Los_Angeles\\', \\'localtime_epoch\\': 1717675395, \\'localtime\\': \\'2024-06-06 5:03\\'}, \\'current\\': {\\'last_updated_epoch\\': 1717675200, \\'last_updated\\': \\'2024-06-06 05:00\\', \\'temp_c\\': 9.0, \\'temp_f\\': 48.2, \\'is_day\\': 0, \\'condition\\': {\\'text\\': \\'Mist\\', \\'icon\\': \\'//cdn.weatherapi.com/weather/64x64/night/143.png\\', \\'code\\': 1030}, \\'wind_mph\\': 2.2, \\'wind_kph\\': 3.6, \\'wind_degree\\': 10, \\'wind_dir\\': \\'N\\', \\'pressure_mb\\': 1012.0, \\'pressure_in\\': 29.87, \\'precip_mm\\': 0.0, \\'precip_in\\': 0.0, \\'humidity\\': 100, \\'cloud\\': 0, \\'feelslike_c\\': 7.4, \\'feelslike_f\\': 45.2, \\'windchill_c\\': 10.8, \\'windchill_f\\': 51.4, \\'heatindex_c\\': 11.8, \\'heatindex_f\\': 53.2, \\'dewpoint_c\\': 9.7, \\'dewpoint_f\\': 49.4, \\'vis_km\\': 6.4, \\'vis_miles\\': 3.0, \\'uv\\': 1.0, \\'gust_mph\\': 11.0, \\'gust_kph\\': 17.7}}\"}, {\"url\": \"https://world-weather.info/forecast/usa/san_francisco/june-2024/\", \"content\": \"Extended weather forecast in San Francisco. Hourly Week 10 days 14 days 30 days Year. Detailed \\\\u26a1 San Francisco Weather Forecast for June 2024 - day/night \\\\ud83c\\\\udf21\\\\ufe0f temperatures, precipitations - World-Weather.info.\"}]', name='tavily_search_results_json', tool_call_id='9d260f41e5a242c58097baaefc47c483')]}}\n",
      "----\n",
      "{'agent': {'messages': [AIMessage(content='Right now in San Francisco, the weather is currently 9.0°C with a misty condition, and a humidity of 100%.', additional_kwargs={'documents': [{'id': 'tavily_search_results_json:0:0', 'output': '[{\"url\": \"https://www.weatherapi.com/\", \"content\": \"{\\'location\\': {\\'name\\': \\'San Francisco\\', \\'region\\': \\'California\\', \\'country\\': \\'United States of America\\', \\'lat\\': 37.78, \\'lon\\': -122.42, \\'tz_id\\': \\'America/Los_Angeles\\', \\'localtime_epoch\\': 1717675395, \\'localtime\\': \\'2024-06-06 5:03\\'}, \\'current\\': {\\'last_updated_epoch\\': 1717675200, \\'last_updated\\': \\'2024-06-06 05:00\\', \\'temp_c\\': 9.0, \\'temp_f\\': 48.2, \\'is_day\\': 0, \\'condition\\': {\\'text\\': \\'Mist\\', \\'icon\\': \\'//cdn.weatherapi.com/weather/64x64/night/143.png\\', \\'code\\': 1030}, \\'wind_mph\\': 2.2, \\'wind_kph\\': 3.6, \\'wind_degree\\': 10, \\'wind_dir\\': \\'N\\', \\'pressure_mb\\': 1012.0, \\'pressure_in\\': 29.87, \\'precip_mm\\': 0.0, \\'precip_in\\': 0.0, \\'humidity\\': 100, \\'cloud\\': 0, \\'feelslike_c\\': 7.4, \\'feelslike_f\\': 45.2, \\'windchill_c\\': 10.8, \\'windchill_f\\': 51.4, \\'heatindex_c\\': 11.8, \\'heatindex_f\\': 53.2, \\'dewpoint_c\\': 9.7, \\'dewpoint_f\\': 49.4, \\'vis_km\\': 6.4, \\'vis_miles\\': 3.0, \\'uv\\': 1.0, \\'gust_mph\\': 11.0, \\'gust_kph\\': 17.7}}\"}, {\"url\": \"https://world-weather.info/forecast/usa/san_francisco/june-2024/\", \"content\": \"Extended weather forecast in San Francisco. Hourly Week 10 days 14 days 30 days Year. Detailed \\\\u26a1 San Francisco Weather Forecast for June 2024 - day/night \\\\ud83c\\\\udf21\\\\ufe0f temperatures, precipitations - World-Weather.info.\"}]', 'tool_name': 'tavily_search_results_json'}], 'citations': [ChatCitation(start=53, end=58, text='9.0°C', document_ids=['tavily_search_results_json:0:0']), ChatCitation(start=66, end=81, text='misty condition', document_ids=['tavily_search_results_json:0:0']), ChatCitation(start=89, end=106, text='humidity of 100%.', document_ids=['tavily_search_results_json:0:0'])], 'search_results': None, 'search_queries': None, 'is_search_required': None, 'generation_id': '2d62276f-77ef-4a8a-a2fe-724395e358ed', 'token_count': {'input_tokens': 1931, 'output_tokens': 31}}, response_metadata={'documents': [{'id': 'tavily_search_results_json:0:0', 'output': '[{\"url\": \"https://www.weatherapi.com/\", \"content\": \"{\\'location\\': {\\'name\\': \\'San Francisco\\', \\'region\\': \\'California\\', \\'country\\': \\'United States of America\\', \\'lat\\': 37.78, \\'lon\\': -122.42, \\'tz_id\\': \\'America/Los_Angeles\\', \\'localtime_epoch\\': 1717675395, \\'localtime\\': \\'2024-06-06 5:03\\'}, \\'current\\': {\\'last_updated_epoch\\': 1717675200, \\'last_updated\\': \\'2024-06-06 05:00\\', \\'temp_c\\': 9.0, \\'temp_f\\': 48.2, \\'is_day\\': 0, \\'condition\\': {\\'text\\': \\'Mist\\', \\'icon\\': \\'//cdn.weatherapi.com/weather/64x64/night/143.png\\', \\'code\\': 1030}, \\'wind_mph\\': 2.2, \\'wind_kph\\': 3.6, \\'wind_degree\\': 10, \\'wind_dir\\': \\'N\\', \\'pressure_mb\\': 1012.0, \\'pressure_in\\': 29.87, \\'precip_mm\\': 0.0, \\'precip_in\\': 0.0, \\'humidity\\': 100, \\'cloud\\': 0, \\'feelslike_c\\': 7.4, \\'feelslike_f\\': 45.2, \\'windchill_c\\': 10.8, \\'windchill_f\\': 51.4, \\'heatindex_c\\': 11.8, \\'heatindex_f\\': 53.2, \\'dewpoint_c\\': 9.7, \\'dewpoint_f\\': 49.4, \\'vis_km\\': 6.4, \\'vis_miles\\': 3.0, \\'uv\\': 1.0, \\'gust_mph\\': 11.0, \\'gust_kph\\': 17.7}}\"}, {\"url\": \"https://world-weather.info/forecast/usa/san_francisco/june-2024/\", \"content\": \"Extended weather forecast in San Francisco. Hourly Week 10 days 14 days 30 days Year. Detailed \\\\u26a1 San Francisco Weather Forecast for June 2024 - day/night \\\\ud83c\\\\udf21\\\\ufe0f temperatures, precipitations - World-Weather.info.\"}]', 'tool_name': 'tavily_search_results_json'}], 'citations': [ChatCitation(start=53, end=58, text='9.0°C', document_ids=['tavily_search_results_json:0:0']), ChatCitation(start=66, end=81, text='misty condition', document_ids=['tavily_search_results_json:0:0']), ChatCitation(start=89, end=106, text='humidity of 100%.', document_ids=['tavily_search_results_json:0:0'])], 'search_results': None, 'search_queries': None, 'is_search_required': None, 'generation_id': '2d62276f-77ef-4a8a-a2fe-724395e358ed', 'token_count': {'input_tokens': 1931, 'output_tokens': 31}}, id='run-3d196ccc-d256-4198-9e81-cf46f6cec2cf-0')]}}\n",
      "----\n"
     ]
    }
   ],
   "source": [
    "for chunk in agent_executor.stream(\n",
    "    {\"messages\": [HumanMessage(content=\"whats the weather in sf?\")]}\n",
    "):\n",
    "    print(chunk)\n",
    "    print(\"----\")"
   ]
  },
  {
   "cell_type": "code",
   "execution_count": 15,
   "id": "d5f765ba-8956-41fe-96b7-45478f95c116",
   "metadata": {},
   "outputs": [
    {
     "name": "stderr",
     "output_type": "stream",
     "text": [
      "C:\\Users\\scb\\AppData\\Local\\Programs\\Python\\Python312\\Lib\\site-packages\\langchain_core\\_api\\beta_decorator.py:87: LangChainBetaWarning: This API is in beta and may change in the future.\n",
      "  warn_beta(\n"
     ]
    },
    {
     "name": "stdout",
     "output_type": "stream",
     "text": [
      "--\n",
      "Starting tool: tavily_search_results_json with inputs: {'query': 'sf weather'}\n",
      "Done tool: tavily_search_results_json\n",
      "Tool output was: [{'url': 'https://www.weatherapi.com/', 'content': \"{'location': {'name': 'San Francisco', 'region': 'California', 'country': 'United States of America', 'lat': 37.78, 'lon': -122.42, 'tz_id': 'America/Los_Angeles', 'localtime_epoch': 1717675395, 'localtime': '2024-06-06 5:03'}, 'current': {'last_updated_epoch': 1717675200, 'last_updated': '2024-06-06 05:00', 'temp_c': 9.0, 'temp_f': 48.2, 'is_day': 0, 'condition': {'text': 'Mist', 'icon': '//cdn.weatherapi.com/weather/64x64/night/143.png', 'code': 1030}, 'wind_mph': 2.2, 'wind_kph': 3.6, 'wind_degree': 10, 'wind_dir': 'N', 'pressure_mb': 1012.0, 'pressure_in': 29.87, 'precip_mm': 0.0, 'precip_in': 0.0, 'humidity': 100, 'cloud': 0, 'feelslike_c': 7.4, 'feelslike_f': 45.2, 'windchill_c': 10.8, 'windchill_f': 51.4, 'heatindex_c': 11.8, 'heatindex_f': 53.2, 'dewpoint_c': 9.7, 'dewpoint_f': 49.4, 'vis_km': 6.4, 'vis_miles': 3.0, 'uv': 1.0, 'gust_mph': 11.0, 'gust_kph': 17.7}}\"}, {'url': 'https://www.weathertab.com/en/c/e/06/united-states/california/san-francisco/', 'content': 'Explore comprehensive June 2024 weather forecasts for San Francisco, including daily high and low temperatures, precipitation risks, and monthly temperature trends. Featuring detailed day-by-day forecasts, dynamic graphs of daily rain probabilities, and temperature trends to help you plan ahead.'}]\n",
      "--\n",
      "Right| now| in| San| Francisco|,| the| weather| is| 9|.|0|°|C| (|4|8|.|2|°|F|)| and| mist|y|.| There|'s| 1|0|0|%| humidity| and| the| wind| is| blowing| north| at| approximately| 3|.|6| km|/|h|.|"
     ]
    },
    {
     "name": "stderr",
     "output_type": "stream",
     "text": [
      "NotImplementedError in LogStreamCallbackHandler.on_llm_end callback: NotImplementedError('Trying to load an object that doesn\\'t implement serialization: {\\'lc\\': 1, \\'type\\': \\'not_implemented\\', \\'id\\': [\\'cohere\\', \\'types\\', \\'chat_citation\\', \\'ChatCitation\\'], \\'repr\\': \"ChatCitation(start=43, end=57, text=\\'9.0°C (48.2°F)\\', document_ids=[\\'tavily_search_results_json:0:0\\'])\"}')\n"
     ]
    }
   ],
   "source": [
    "async for event in agent_executor.astream_events(\n",
    "    {\"messages\": [HumanMessage(content=\"whats the weather in sf?\")]}, version=\"v1\"\n",
    "):\n",
    "    kind = event[\"event\"]\n",
    "    if kind == \"on_chain_start\":\n",
    "        if (\n",
    "            event[\"name\"] == \"Agent\"\n",
    "        ):  # Was assigned when creating the agent with `.with_config({\"run_name\": \"Agent\"})`\n",
    "            print(\n",
    "                f\"Starting agent: {event['name']} with input: {event['data'].get('input')}\"\n",
    "            )\n",
    "    elif kind == \"on_chain_end\":\n",
    "        if (\n",
    "            event[\"name\"] == \"Agent\"\n",
    "        ):  # Was assigned when creating the agent with `.with_config({\"run_name\": \"Agent\"})`\n",
    "            print()\n",
    "            print(\"--\")\n",
    "            print(\n",
    "                f\"Done agent: {event['name']} with output: {event['data'].get('output')['output']}\"\n",
    "            )\n",
    "    if kind == \"on_chat_model_stream\":\n",
    "        content = event[\"data\"][\"chunk\"].content\n",
    "        if content:\n",
    "            # Empty content in the context of OpenAI means\n",
    "            # that the model is asking for a tool to be invoked.\n",
    "            # So we only print non-empty content\n",
    "            print(content, end=\"|\")\n",
    "    elif kind == \"on_tool_start\":\n",
    "        print(\"--\")\n",
    "        print(\n",
    "            f\"Starting tool: {event['name']} with inputs: {event['data'].get('input')}\"\n",
    "        )\n",
    "    elif kind == \"on_tool_end\":\n",
    "        print(f\"Done tool: {event['name']}\")\n",
    "        print(f\"Tool output was: {event['data'].get('output')}\")\n",
    "        print(\"--\")"
   ]
  },
  {
   "cell_type": "code",
   "execution_count": 16,
   "id": "9e6062c4-b037-42c8-b8a0-238f8cdecc95",
   "metadata": {},
   "outputs": [],
   "source": [
    "from langgraph.checkpoint.sqlite import SqliteSaver\n",
    "\n",
    "memory = SqliteSaver.from_conn_string(\":memory:\")"
   ]
  },
  {
   "cell_type": "code",
   "execution_count": 17,
   "id": "1eb99015-7fd7-437d-8d0e-5712c648783c",
   "metadata": {},
   "outputs": [],
   "source": [
    "agent_executor = create_react_agent(model, tools, checkpointer=memory)\n",
    "\n",
    "config = {\"configurable\": {\"thread_id\": \"abc123\"}}"
   ]
  },
  {
   "cell_type": "code",
   "execution_count": 18,
   "id": "1642bae3-e5a8-43a3-ad86-94d81efe2fae",
   "metadata": {},
   "outputs": [
    {
     "name": "stdout",
     "output_type": "stream",
     "text": [
      "{'agent': {'messages': [AIMessage(content=\"Hi Bob! It's nice to meet you. How's it going today?\", additional_kwargs={'documents': None, 'citations': None, 'search_results': None, 'search_queries': None, 'is_search_required': None, 'generation_id': 'b45227f7-584c-42aa-b0bd-d308c10d3d61', 'token_count': {'input_tokens': 70, 'output_tokens': 16}}, response_metadata={'documents': None, 'citations': None, 'search_results': None, 'search_queries': None, 'is_search_required': None, 'generation_id': 'b45227f7-584c-42aa-b0bd-d308c10d3d61', 'token_count': {'input_tokens': 70, 'output_tokens': 16}}, id='run-a05bb497-d539-41b0-8bba-f94fe80297c6-0')]}}\n",
      "----\n"
     ]
    }
   ],
   "source": [
    "for chunk in agent_executor.stream(\n",
    "    {\"messages\": [HumanMessage(content=\"hi im bob!\")]}, config\n",
    "):\n",
    "    print(chunk)\n",
    "    print(\"----\")"
   ]
  },
  {
   "cell_type": "code",
   "execution_count": 19,
   "id": "9a9ffd22-0c86-46d5-8f82-f33321e891d5",
   "metadata": {},
   "outputs": [
    {
     "name": "stdout",
     "output_type": "stream",
     "text": [
      "{'agent': {'messages': [AIMessage(content=\"Your name is Bob! Did you forget? It's an honor to meet you, Bob.\", additional_kwargs={'documents': None, 'citations': None, 'search_results': None, 'search_queries': None, 'is_search_required': None, 'generation_id': '630fc4c4-e2cf-498e-b257-1bdd8bc55627', 'token_count': {'input_tokens': 96, 'output_tokens': 19}}, response_metadata={'documents': None, 'citations': None, 'search_results': None, 'search_queries': None, 'is_search_required': None, 'generation_id': '630fc4c4-e2cf-498e-b257-1bdd8bc55627', 'token_count': {'input_tokens': 96, 'output_tokens': 19}}, id='run-c2c87569-9f81-4054-a014-efaaafccc3cf-0')]}}\n",
      "----\n"
     ]
    }
   ],
   "source": [
    "for chunk in agent_executor.stream(\n",
    "    {\"messages\": [HumanMessage(content=\"whats my name?\")]}, config\n",
    "):\n",
    "    print(chunk)\n",
    "    print(\"----\")"
   ]
  },
  {
   "cell_type": "code",
   "execution_count": 20,
   "id": "be010968-6858-4899-8d84-b74960eea21e",
   "metadata": {},
   "outputs": [
    {
     "name": "stdout",
     "output_type": "stream",
     "text": [
      "{'agent': {'messages': [AIMessage(content=\"I'm sorry, but as an AI chatbot, I don't know your name. If you tell me your name, I will be happy to address you by it.\", additional_kwargs={'documents': None, 'citations': None, 'search_results': None, 'search_queries': None, 'is_search_required': None, 'generation_id': 'e710990a-b236-4d42-8b9c-d956d667eed3', 'token_count': {'input_tokens': 70, 'output_tokens': 34}}, response_metadata={'documents': None, 'citations': None, 'search_results': None, 'search_queries': None, 'is_search_required': None, 'generation_id': 'e710990a-b236-4d42-8b9c-d956d667eed3', 'token_count': {'input_tokens': 70, 'output_tokens': 34}}, id='run-9d6ec4f8-22cd-4749-893a-157b3d1e394d-0')]}}\n",
      "----\n"
     ]
    }
   ],
   "source": [
    "config = {\"configurable\": {\"thread_id\": \"xyz123\"}}\n",
    "for chunk in agent_executor.stream(\n",
    "    {\"messages\": [HumanMessage(content=\"whats my name?\")]}, config\n",
    "):\n",
    "    print(chunk)\n",
    "    print(\"----\")"
   ]
  },
  {
   "cell_type": "code",
   "execution_count": null,
   "id": "1c7fdc3f-bb2b-4af2-a97f-f04947e5b6ef",
   "metadata": {},
   "outputs": [],
   "source": []
  }
 ],
 "metadata": {
  "kernelspec": {
   "display_name": "Python 3 (ipykernel)",
   "language": "python",
   "name": "python3"
  },
  "language_info": {
   "codemirror_mode": {
    "name": "ipython",
    "version": 3
   },
   "file_extension": ".py",
   "mimetype": "text/x-python",
   "name": "python",
   "nbconvert_exporter": "python",
   "pygments_lexer": "ipython3",
   "version": "3.12.3"
  }
 },
 "nbformat": 4,
 "nbformat_minor": 5
}
